{
 "cells": [
  {
   "cell_type": "markdown",
   "id": "0ed1a048-1db4-48fd-bc3a-4cd2597f5c9d",
   "metadata": {},
   "source": [
    "# PA228 Project - machine learning in image processing"
   ]
  },
  {
   "cell_type": "markdown",
   "id": "3a12e092-3893-4c29-968b-919214d0ea15",
   "metadata": {},
   "source": [
    "Author: Petr Kadlec, UČO: 485208"
   ]
  },
  {
   "cell_type": "code",
   "execution_count": null,
   "id": "ded7d6eb-52ef-4046-ad15-dd848358354d",
   "metadata": {},
   "outputs": [],
   "source": []
  }
 ],
 "metadata": {
  "kernelspec": {
   "display_name": "Python 3 (ipykernel)",
   "language": "python",
   "name": "python3"
  },
  "language_info": {
   "codemirror_mode": {
    "name": "ipython",
    "version": 3
   },
   "file_extension": ".py",
   "mimetype": "text/x-python",
   "name": "python",
   "nbconvert_exporter": "python",
   "pygments_lexer": "ipython3",
   "version": "3.9.7"
  }
 },
 "nbformat": 4,
 "nbformat_minor": 5
}
